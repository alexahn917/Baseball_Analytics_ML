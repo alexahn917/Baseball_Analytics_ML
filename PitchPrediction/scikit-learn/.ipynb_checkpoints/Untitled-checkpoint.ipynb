{
 "cells": [
  {
   "cell_type": "code",
   "execution_count": 116,
   "metadata": {
    "collapsed": false,
    "deletable": true,
    "editable": true
   },
   "outputs": [],
   "source": [
    "import pandas as pd\n",
    "import numpy as np\n",
    "from sklearn.preprocessing import OneHotEncoder\n",
    "\n",
    "pitcher_name = 'Clayton Kershaw'\n",
    "file_type = 'train'\n",
    "csv_file = '../ETL pipeline/CSV/extended/' + pitcher_name + '_' + file_type +'.csv'\n",
    "instances = pd.DataFrame.from_csv(csv_file, index_col=None)\n",
    "N = len(instances)\n",
    "target = instances['pitch_type']\n",
    "prev_pitches = instances['prev_pitch_type']\n",
    "prevprev_pitches = instances['prevprev_pitch_type']\n",
    "#instances.drop('pitch_type', axis=1, inplace=True)\n",
    "#instances.drop('prev_pitch_type', axis=1, inplace=True)\n",
    "#instances.drop('prevprev_pitch_type', axis=1, inplace=True)\n",
    "data = instances"
   ]
  },
  {
   "cell_type": "code",
   "execution_count": 117,
   "metadata": {
    "collapsed": true
   },
   "outputs": [],
   "source": [
    "from sklearn.feature_extraction import DictVectorizer as DV\n",
    "string_cols = ['prevprev_pitch_type', 'prev_pitch_type']\n",
    "dict_vect = DV(sparse = False)\n",
    "data_num = data.drop(string_cols, axis = 1)\n",
    "data_str = data[string_cols].to_dict(orient = 'records')\n",
    "data_str_vectorized = dict_vect.fit_transform(data_str)\n",
    "data_vec = np.hstack((data_num, data_str_vectorized))\n"
   ]
  },
  {
   "cell_type": "code",
   "execution_count": 119,
   "metadata": {
    "collapsed": false
   },
   "outputs": [
    {
     "data": {
      "text/plain": [
       "(2956, 31)"
      ]
     },
     "execution_count": 119,
     "metadata": {},
     "output_type": "execute_result"
    }
   ],
   "source": [
    "data_vec.shape"
   ]
  },
  {
   "cell_type": "code",
   "execution_count": null,
   "metadata": {
    "collapsed": false
   },
   "outputs": [],
   "source": []
  },
  {
   "cell_type": "code",
   "execution_count": null,
   "metadata": {
    "collapsed": false,
    "deletable": true,
    "editable": true
   },
   "outputs": [],
   "source": [
    "\n"
   ]
  }
 ],
 "metadata": {
  "kernelspec": {
   "display_name": "Python 3",
   "language": "python",
   "name": "python3"
  },
  "language_info": {
   "codemirror_mode": {
    "name": "ipython",
    "version": 3
   },
   "file_extension": ".py",
   "mimetype": "text/x-python",
   "name": "python",
   "nbconvert_exporter": "python",
   "pygments_lexer": "ipython3",
   "version": "3.6.0"
  }
 },
 "nbformat": 4,
 "nbformat_minor": 2
}
