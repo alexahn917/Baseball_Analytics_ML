{
 "cells": [
  {
   "cell_type": "code",
   "execution_count": 1,
   "metadata": {
    "collapsed": true
   },
   "outputs": [],
   "source": [
    "#Testing"
   ]
  },
  {
   "cell_type": "code",
   "execution_count": 1,
   "metadata": {
    "collapsed": false
   },
   "outputs": [
    {
     "name": "stdout",
     "output_type": "stream",
     "text": [
      "[[ 0.  0.  0.  1.  0.  0.  0.  0.  0.  0.]\n",
      " [ 0.  0.  0.  0.  0.  1.  0.  0.  0.  0.]\n",
      " [ 0.  1.  0.  0.  0.  0.  0.  0.  0.  0.]\n",
      " [ 0.  1.  0.  0.  0.  0.  0.  0.  0.  0.]]\n"
     ]
    }
   ],
   "source": [
    "import numpy as np\n",
    "A = [3,5,1,1]\n",
    "print(np.eye(10)[A])"
   ]
  },
  {
   "cell_type": "code",
   "execution_count": 25,
   "metadata": {
    "collapsed": false
   },
   "outputs": [
    {
     "name": "stdout",
     "output_type": "stream",
     "text": [
      "(6, 5)\n",
      "[[ 0.48742658  0.43218907  0.40432221  0.36158589  0.19644533]\n",
      " [ 0.07285614  0.7466888   0.32509692  0.85511881  0.60533597]\n",
      " [ 0.71075503  0.19605861  0.38063236  0.77948683  0.0714833 ]\n",
      " [ 0.41796391  0.98104948  0.75484631  0.29105199  0.44166639]\n",
      " [ 0.83000111  0.13422871  0.30585701  0.24491273  0.28177389]\n",
      " [ 0.789444    0.61166087  0.89418843  0.14697195  0.95773661]]\n",
      "[[ 0.83000111  0.13422871  0.30585701  0.24491273  0.28177389]\n",
      " [ 0.71075503  0.19605861  0.38063236  0.77948683  0.0714833 ]\n",
      " [ 0.48742658  0.43218907  0.40432221  0.36158589  0.19644533]\n",
      " [ 0.07285614  0.7466888   0.32509692  0.85511881  0.60533597]\n",
      " [ 0.41796391  0.98104948  0.75484631  0.29105199  0.44166639]\n",
      " [ 0.789444    0.61166087  0.89418843  0.14697195  0.95773661]]\n"
     ]
    }
   ],
   "source": [
    "X = np.random.random((6, 5))\n",
    "print(X.shape)\n",
    "print(X)\n",
    "np.random.shuffle(X)\n",
    "print(X)"
   ]
  },
  {
   "cell_type": "code",
   "execution_count": null,
   "metadata": {
    "collapsed": true
   },
   "outputs": [],
   "source": []
  }
 ],
 "metadata": {
  "kernelspec": {
   "display_name": "Python 3",
   "language": "python",
   "name": "python3"
  },
  "language_info": {
   "codemirror_mode": {
    "name": "ipython",
    "version": 3
   },
   "file_extension": ".py",
   "mimetype": "text/x-python",
   "name": "python",
   "nbconvert_exporter": "python",
   "pygments_lexer": "ipython3",
   "version": "3.6.0"
  }
 },
 "nbformat": 4,
 "nbformat_minor": 2
}
